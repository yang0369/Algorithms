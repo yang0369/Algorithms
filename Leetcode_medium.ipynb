{
 "cells": [
  {
   "cell_type": "code",
   "execution_count": null,
   "metadata": {},
   "outputs": [],
   "source": [
    "# binary search"
   ]
  },
  {
   "cell_type": "code",
   "execution_count": 1,
   "metadata": {},
   "outputs": [],
   "source": [
    "lst = [2, 3, 5, 6, 10, 22]"
   ]
  },
  {
   "cell_type": "code",
   "execution_count": 16,
   "metadata": {},
   "outputs": [
    {
     "data": {
      "text/plain": [
       "[6, 10]"
      ]
     },
     "execution_count": 16,
     "metadata": {},
     "output_type": "execute_result"
    }
   ],
   "source": [
    "lst[3:5]"
   ]
  },
  {
   "cell_type": "code",
   "execution_count": 44,
   "metadata": {},
   "outputs": [],
   "source": [
    "def binary_search(lst, key):\n",
    "    start = 0\n",
    "    end = len(lst)-1\n",
    "    if len(lst) < 1:\n",
    "        return False\n",
    "    while start <= end:\n",
    "        mid = (start+end+1)//2\n",
    "        \n",
    "        if (lst[mid] == key):\n",
    "            return True\n",
    "        elif (lst[mid] < key):\n",
    "            start = mid+1\n",
    "        elif (lst[mid] > key):\n",
    "            end = mid-1\n",
    "            \n",
    "        #lst = lst[start:end+1]\n",
    "    return False"
   ]
  },
  {
   "cell_type": "code",
   "execution_count": 47,
   "metadata": {},
   "outputs": [
    {
     "data": {
      "text/plain": [
       "False"
      ]
     },
     "execution_count": 47,
     "metadata": {},
     "output_type": "execute_result"
    }
   ],
   "source": [
    "binary_search(lst, 100)"
   ]
  },
  {
   "cell_type": "code",
   "execution_count": 10,
   "metadata": {},
   "outputs": [
    {
     "data": {
      "text/plain": [
       "22"
      ]
     },
     "execution_count": 10,
     "metadata": {},
     "output_type": "execute_result"
    }
   ],
   "source": [
    "lst[5]"
   ]
  },
  {
   "cell_type": "code",
   "execution_count": 117,
   "metadata": {},
   "outputs": [
    {
     "data": {
      "text/plain": [
       "1"
      ]
     },
     "execution_count": 117,
     "metadata": {},
     "output_type": "execute_result"
    }
   ],
   "source": [
    "stack = [1]\n",
    "stack[-1]"
   ]
  },
  {
   "cell_type": "code",
   "execution_count": 122,
   "metadata": {},
   "outputs": [],
   "source": [
    "lst = [1,3,3,4,2,4,1,3,7,1]"
   ]
  },
  {
   "cell_type": "code",
   "execution_count": 131,
   "metadata": {},
   "outputs": [
    {
     "name": "stdout",
     "output_type": "stream",
     "text": [
      "1\n",
      "appending:[1]\n",
      "3\n",
      "[]\n",
      "3\n",
      "appending:[3]\n",
      "4\n",
      "2\n",
      "[3]\n",
      "4\n",
      "1\n",
      "3\n",
      "[3, 4]\n",
      "7\n",
      "1\n",
      "[3, 4]\n",
      "output2\n"
     ]
    }
   ],
   "source": [
    "stack = []\n",
    "\n",
    "for i in lst:\n",
    "    print(i)\n",
    "    if not stack:\n",
    "        stack.append(i)\n",
    "        print(f\"appending:{stack}\")\n",
    "        \n",
    "    elif ((i + stack[-1])%2 == 0):\n",
    "        stack.remove(stack[-1])\n",
    "        print(stack)\n",
    "    \n",
    "    else:\n",
    "        stack.append(i)\n",
    "    \n",
    "\n",
    "        \n",
    "print(f\"output{len(stack)}\")"
   ]
  },
  {
   "cell_type": "code",
   "execution_count": 72,
   "metadata": {},
   "outputs": [
    {
     "name": "stdout",
     "output_type": "stream",
     "text": [
      "empty\n"
     ]
    }
   ],
   "source": [
    "stack = []\n",
    "\n",
    "for i in lst:\n",
    "    if not stack:\n",
    "        stack.append(i)\n",
    "        print(f\"appending:{stack}\")\n",
    "        \n",
    "    elif ((i + stack[-1])%2 == 0):\n",
    "        stack.remove(stack[-1])\n",
    "        print(stack)\n",
    "    \n",
    "    else:\n",
    "        stack.append(i\n",
    "    \n",
    "\n",
    "        \n",
    "print(f\"output{len(stack)}\")"
   ]
  },
  {
   "cell_type": "markdown",
   "metadata": {},
   "source": [
    "<img src=\"m_6.png\" width=\"380\">"
   ]
  },
  {
   "cell_type": "code",
   "execution_count": 1,
   "metadata": {},
   "outputs": [],
   "source": [
    "s = \"PAYPALISHIRING\""
   ]
  },
  {
   "cell_type": "code",
   "execution_count": 29,
   "metadata": {},
   "outputs": [],
   "source": [
    "numRows = 3"
   ]
  },
  {
   "cell_type": "code",
   "execution_count": 30,
   "metadata": {},
   "outputs": [],
   "source": [
    "s = \"AB\"\n",
    "numRows = 1"
   ]
  },
  {
   "cell_type": "code",
   "execution_count": 53,
   "metadata": {},
   "outputs": [],
   "source": [
    "class Solution:\n",
    "    def convert(self, s, numRows):\n",
    "        dic = {row: \"\" for row in range(numRows)}\n",
    "        if numRows == 1:\n",
    "            return s\n",
    "        row = 0\n",
    "        for i in s:\n",
    "            print(\"row:\", row)\n",
    "            if row == 0:\n",
    "                direction = 1\n",
    "\n",
    "            elif row == numRows-1:\n",
    "                direction = -1\n",
    "            print(i)\n",
    "            dic[row] = dic[row] + i\n",
    "            row += direction\n",
    "        return \"\".join(i for i in dic.values())"
   ]
  },
  {
   "cell_type": "code",
   "execution_count": 54,
   "metadata": {},
   "outputs": [],
   "source": [
    "ans = Solution()\n",
    "dic = ans.convert(s, numRows)"
   ]
  },
  {
   "cell_type": "code",
   "execution_count": 55,
   "metadata": {},
   "outputs": [
    {
     "data": {
      "text/plain": [
       "'AB'"
      ]
     },
     "execution_count": 55,
     "metadata": {},
     "output_type": "execute_result"
    }
   ],
   "source": [
    "dic"
   ]
  },
  {
   "cell_type": "code",
   "execution_count": 42,
   "metadata": {},
   "outputs": [],
   "source": [
    "class Student():\n",
    "    def __init__(self, val):\n",
    "        # private attribute, user not allowed to access it directly\n",
    "        self.set_age(val)\n",
    "    \n",
    "    def set_age(self, val):\n",
    "        if val < 3:\n",
    "            print(\"student's age must be >= 3\")\n",
    "        else:\n",
    "            self.__age = val\n",
    "        \n",
    "    def get_age(self):\n",
    "        return self.__age"
   ]
  },
  {
   "cell_type": "code",
   "execution_count": 43,
   "metadata": {},
   "outputs": [],
   "source": [
    "xiaoming = Student(18)"
   ]
  },
  {
   "cell_type": "code",
   "execution_count": 44,
   "metadata": {},
   "outputs": [
    {
     "data": {
      "text/plain": [
       "18"
      ]
     },
     "execution_count": 44,
     "metadata": {},
     "output_type": "execute_result"
    }
   ],
   "source": [
    "xiaoming.get_age()"
   ]
  },
  {
   "cell_type": "code",
   "execution_count": 45,
   "metadata": {},
   "outputs": [],
   "source": [
    "xiaoming.set_age(20)"
   ]
  },
  {
   "cell_type": "code",
   "execution_count": 46,
   "metadata": {},
   "outputs": [
    {
     "data": {
      "text/plain": [
       "20"
      ]
     },
     "execution_count": 46,
     "metadata": {},
     "output_type": "execute_result"
    }
   ],
   "source": [
    "xiaoming.get_age()"
   ]
  },
  {
   "cell_type": "code",
   "execution_count": 47,
   "metadata": {},
   "outputs": [],
   "source": [
    "class Student():\n",
    "    def __init__(self, val):\n",
    "        # private attribute, user not allowed to access it directly\n",
    "        self.age = val\n",
    "        \n",
    "    # @property is used to get the value of a private attribute without using any getter methods.\n",
    "    @property\n",
    "    def age(self):\n",
    "        return self.__age\n",
    "    \n",
    "    # the attribute name and the method name must be same which is used to set the value for the attribute\n",
    "    @age.setter\n",
    "    def age(self, val):\n",
    "        if val < 3:\n",
    "            print(\"student's age must be >= 3\")\n",
    "        else:\n",
    "            self.__age = val"
   ]
  },
  {
   "cell_type": "code",
   "execution_count": 48,
   "metadata": {},
   "outputs": [],
   "source": [
    "xiaoming = Student(18)"
   ]
  },
  {
   "cell_type": "code",
   "execution_count": 49,
   "metadata": {},
   "outputs": [
    {
     "data": {
      "text/plain": [
       "18"
      ]
     },
     "execution_count": 49,
     "metadata": {},
     "output_type": "execute_result"
    }
   ],
   "source": [
    "xiaoming.age"
   ]
  },
  {
   "cell_type": "code",
   "execution_count": 50,
   "metadata": {},
   "outputs": [],
   "source": [
    "xiaoming.age = 20"
   ]
  },
  {
   "cell_type": "code",
   "execution_count": 51,
   "metadata": {},
   "outputs": [
    {
     "data": {
      "text/plain": [
       "20"
      ]
     },
     "execution_count": 51,
     "metadata": {},
     "output_type": "execute_result"
    }
   ],
   "source": [
    "xiaoming.age"
   ]
  },
  {
   "cell_type": "code",
   "execution_count": 53,
   "metadata": {},
   "outputs": [],
   "source": [
    "class Student():\n",
    "    def __init__(self, val):\n",
    "        # private attribute, user not allowed to access it directly\n",
    "        self.set_age(val)\n",
    "    \n",
    "    def set_age(self, val):\n",
    "        if val < 3:\n",
    "            print(\"student's age must be >= 3\")\n",
    "        else:\n",
    "            self.__age = val\n",
    "        \n",
    "    def get_age(self):\n",
    "        return self.__age\n",
    "\n",
    "    age = property(get_age, set_age)"
   ]
  },
  {
   "cell_type": "code",
   "execution_count": 54,
   "metadata": {},
   "outputs": [],
   "source": [
    "xiaoming = Student(18)"
   ]
  },
  {
   "cell_type": "code",
   "execution_count": 55,
   "metadata": {},
   "outputs": [
    {
     "data": {
      "text/plain": [
       "18"
      ]
     },
     "execution_count": 55,
     "metadata": {},
     "output_type": "execute_result"
    }
   ],
   "source": [
    "xiaoming.age"
   ]
  },
  {
   "cell_type": "code",
   "execution_count": 56,
   "metadata": {},
   "outputs": [],
   "source": [
    "xiaoming.age = 20"
   ]
  },
  {
   "cell_type": "code",
   "execution_count": 57,
   "metadata": {},
   "outputs": [
    {
     "data": {
      "text/plain": [
       "20"
      ]
     },
     "execution_count": 57,
     "metadata": {},
     "output_type": "execute_result"
    }
   ],
   "source": [
    "xiaoming.age"
   ]
  },
  {
   "cell_type": "markdown",
   "metadata": {},
   "source": [
    "<img src=\"medium_2.png\" width=\"450\">"
   ]
  },
  {
   "cell_type": "code",
   "execution_count": 24,
   "metadata": {},
   "outputs": [],
   "source": [
    "l1 = [2, 4, 3]\n",
    "l2 = [5, 6, 4]"
   ]
  },
  {
   "cell_type": "code",
   "execution_count": 79,
   "metadata": {},
   "outputs": [],
   "source": [
    "x3 = ListNode(val=3)\n",
    "x2 = ListNode(val=4, next=x3)\n",
    "l1 = ListNode(val=2, next=x2)"
   ]
  },
  {
   "cell_type": "code",
   "execution_count": 70,
   "metadata": {},
   "outputs": [
    {
     "name": "stdout",
     "output_type": "stream",
     "text": [
      "2\n",
      "4\n",
      "3\n"
     ]
    }
   ],
   "source": [
    "L1 = []\n",
    "while l1 is not None:\n",
    "    print(l1.val)\n",
    "    L1.append(l1.val)\n",
    "    l1 = l1.next"
   ]
  },
  {
   "cell_type": "code",
   "execution_count": 71,
   "metadata": {},
   "outputs": [
    {
     "data": {
      "text/plain": [
       "[2, 4, 3]"
      ]
     },
     "execution_count": 71,
     "metadata": {},
     "output_type": "execute_result"
    }
   ],
   "source": [
    "L1"
   ]
  },
  {
   "cell_type": "code",
   "execution_count": 80,
   "metadata": {},
   "outputs": [],
   "source": [
    "y3 = ListNode(val=4)\n",
    "y2 = ListNode(val=6, next=y3)\n",
    "l2 = ListNode(val=5, next=y2)"
   ]
  },
  {
   "cell_type": "code",
   "execution_count": 84,
   "metadata": {},
   "outputs": [],
   "source": [
    "# Definition for singly-linked list.\n",
    "class ListNode:\n",
    "    def __init__(self, val=0, next=None):\n",
    "        self.val = val\n",
    "        self.next = next\n",
    "        \n",
    "class Solution:\n",
    "    def addTwoNumbers(self, l1, l2):\n",
    "        L1 = []\n",
    "        while l1 is not None:\n",
    "            L1.append(l1.val)\n",
    "            l1 = l1.next\n",
    "        L2 = []\n",
    "        while l2 is not None:\n",
    "            L2.append(l2.val)\n",
    "            l2 = l2.next\n",
    "        L1 = int(\"\".join([str(i) for i in L1][::-1]))\n",
    "        L2 = int(\"\".join([str(i) for i in L2][::-1]))\n",
    "        L3 = L1+L2\n",
    "        out = int(\"\".join([i for i in str(L3)]))\n",
    "        \n",
    "        return out    "
   ]
  },
  {
   "cell_type": "code",
   "execution_count": 85,
   "metadata": {},
   "outputs": [],
   "source": [
    "ans = Solution()"
   ]
  },
  {
   "cell_type": "code",
   "execution_count": 86,
   "metadata": {},
   "outputs": [
    {
     "data": {
      "text/plain": [
       "807"
      ]
     },
     "execution_count": 86,
     "metadata": {},
     "output_type": "execute_result"
    }
   ],
   "source": [
    "ans.addTwoNumbers(l1, l2)"
   ]
  },
  {
   "cell_type": "code",
   "execution_count": null,
   "metadata": {},
   "outputs": [],
   "source": []
  },
  {
   "cell_type": "code",
   "execution_count": null,
   "metadata": {},
   "outputs": [],
   "source": []
  }
 ],
 "metadata": {
  "kernelspec": {
   "display_name": "Python 3",
   "language": "python",
   "name": "python3"
  },
  "language_info": {
   "codemirror_mode": {
    "name": "ipython",
    "version": 3
   },
   "file_extension": ".py",
   "mimetype": "text/x-python",
   "name": "python",
   "nbconvert_exporter": "python",
   "pygments_lexer": "ipython3",
   "version": "3.6.7"
  }
 },
 "nbformat": 4,
 "nbformat_minor": 4
}
