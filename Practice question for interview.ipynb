{
 "cells": [
  {
   "cell_type": "code",
   "execution_count": 2,
   "metadata": {},
   "outputs": [],
   "source": [
    "#Example_1 Reverse a 3-digit integer.\n",
    "#Reverse 123 you will get 321.\n",
    "#Reverse 900 you will get 9.\n",
    "\n",
    "def reverse(number):\n",
    "    if number<100 & number>1000:\n",
    "       print(\"invalid input\")\n",
    "    num=number%10*100+number//10%10*10+number//100\n",
    "    print(num)"
   ]
  },
  {
   "cell_type": "raw",
   "metadata": {},
   "source": [
    "reverse(224)"
   ]
  },
  {
   "cell_type": "code",
   "execution_count": 3,
   "metadata": {},
   "outputs": [],
   "source": [
    "#Example_2 Convert a lowercase character to uppercase.\n",
    "def upper(str):\n",
    "    u=str.upper()\n",
    "    print(u)\n",
    "\n",
    "\n"
   ]
  },
  {
   "cell_type": "code",
   "execution_count": 4,
   "metadata": {},
   "outputs": [
    {
     "name": "stdout",
     "output_type": "stream",
     "text": [
      "BETTER\n"
     ]
    }
   ],
   "source": [
    "upper(\"better\")\n"
   ]
  },
  {
   "cell_type": "code",
   "execution_count": 5,
   "metadata": {},
   "outputs": [],
   "source": [
    "#Example_3 Given [3, 2, 1, 4, 5], return [1, 2, 3, 4, 5]."
   ]
  },
  {
   "cell_type": "code",
   "execution_count": 14,
   "metadata": {},
   "outputs": [],
   "source": [
    "def bubblesort(array):\n",
    "    n=len(array)\n",
    "    for i in range(n):\n",
    "        for j in range(0,n-i-1):\n",
    "            if array[j]>array[j+1]:\n",
    "                array[j],array[j+1]=array[j+1],array[j]\n",
    "    print(array)"
   ]
  },
  {
   "cell_type": "code",
   "execution_count": 21,
   "metadata": {},
   "outputs": [
    {
     "name": "stdout",
     "output_type": "stream",
     "text": [
      "[1, 2, 3, 4, 5]\n"
     ]
    }
   ],
   "source": [
    "a=[3,2,1,4,5]\n",
    "bubblesort(a)"
   ]
  },
  {
   "cell_type": "markdown",
   "metadata": {},
   "source": []
  },
  {
   "cell_type": "code",
   "execution_count": null,
   "metadata": {},
   "outputs": [],
   "source": [
    "\n"
   ]
  },
  {
   "cell_type": "code",
   "execution_count": 17,
   "metadata": {},
   "outputs": [],
   "source": [
    "#Example_4 Given an array and two indexes, swap the integers on the two indices.Given [1,2,3,4] and index1 = 2, index2 = 3. The array will change to [1,2,4,3] after swapping. You don't need return anything, just swap the integers in-place.\n",
    "def swap(array,index1,index2):\n",
    "    array[index1],array[index2]=array[index2],array[index1]\n",
    "    print(array)\n",
    "swap(a,2,2)"
   ]
  },
  {
   "cell_type": "code",
   "execution_count": 22,
   "metadata": {},
   "outputs": [
    {
     "name": "stdout",
     "output_type": "stream",
     "text": [
      "[1, 2, 3, 4, 5]\n"
     ]
    }
   ],
   "source": []
  },
  {
   "cell_type": "code",
   "execution_count": 37,
   "metadata": {},
   "outputs": [
    {
     "name": "stdout",
     "output_type": "stream",
     "text": [
      "Splitting  [54, 26, 93, 17, 77, 31, 44, 55, 20]\n",
      "Splitting  [54, 26, 93, 17]\n",
      "Splitting  [54, 26]\n",
      "Splitting  [54]\n",
      "Merging  [54]\n",
      "Splitting  [26]\n",
      "Merging  [26]\n",
      "Merging  [26, 54]\n",
      "Splitting  [93, 17]\n",
      "Splitting  [93]\n",
      "Merging  [93]\n",
      "Splitting  [17]\n",
      "Merging  [17]\n",
      "Merging  [17, 93]\n",
      "Merging  [17, 26, 54, 93]\n",
      "Splitting  [77, 31, 44, 55, 20]\n",
      "Splitting  [77, 31]\n",
      "Splitting  [77]\n",
      "Merging  [77]\n",
      "Splitting  [31]\n",
      "Merging  [31]\n",
      "Merging  [31, 77]\n",
      "Splitting  [44, 55, 20]\n",
      "Splitting  [44]\n",
      "Merging  [44]\n",
      "Splitting  [55, 20]\n",
      "Splitting  [55]\n",
      "Merging  [55]\n",
      "Splitting  [20]\n",
      "Merging  [20]\n",
      "Merging  [20, 55]\n",
      "Merging  [20, 44, 55]\n",
      "Merging  [20, 31, 44, 55, 77]\n",
      "Merging  [17, 20, 26, 31, 44, 54, 55, 77, 93]\n",
      "[17, 20, 26, 31, 44, 54, 55, 77, 93]\n"
     ]
    }
   ],
   "source": [
    "# def mergeSort(alist):\n",
    "\n",
    "#    print(\"Splitting \",alist)\n",
    "\n",
    "#    if len(alist)>1:\n",
    "#        mid = len(alist)//2\n",
    "#        lefthalf = alist[:mid]\n",
    "#        righthalf = alist[mid:]\n",
    "\n",
    "#        #recursion\n",
    "#        mergeSort(lefthalf)\n",
    "#        mergeSort(righthalf)\n",
    "        \n",
    "        \n",
    "#        #merging\n",
    "#        i=0\n",
    "#        j=0\n",
    "#        k=0\n",
    "\n",
    "#        while i < len(lefthalf) and j < len(righthalf):\n",
    "#            if lefthalf[i] < righthalf[j]:\n",
    "#                alist[k]=lefthalf[i]\n",
    "#                i=i+1\n",
    "#            else:\n",
    "#                alist[k]=righthalf[j]\n",
    "#                j=j+1\n",
    "#            k=k+1\n",
    "\n",
    "#        while i < len(lefthalf):\n",
    "#            alist[k]=lefthalf[i]\n",
    "#            i=i+1\n",
    "#            k=k+1\n",
    "\n",
    "#        while j < len(righthalf):\n",
    "#            alist[k]=righthalf[j]\n",
    "#            j=j+1\n",
    "#            k=k+1\n",
    "\n",
    "#    print(\"Merging \",alist)\n",
    "\n",
    "# alist = [54,26,93,17,77,31,44,55,20]\n",
    "# mergeSort(alist)\n",
    "# print(alist)"
   ]
  },
  {
   "cell_type": "code",
   "execution_count": 58,
   "metadata": {},
   "outputs": [
    {
     "name": "stdout",
     "output_type": "stream",
     "text": [
      "Splitting  [54, 26, 93, 17, 77, 31, 44, 55, 20]\n",
      "Splitting  [54, 26, 93, 17]\n",
      "Splitting  [54, 26]\n",
      "Splitting  [54]\n",
      "Merging  [54]\n",
      "Splitting  [26]\n",
      "Merging  [26]\n",
      "Merging  [26, 54]\n",
      "Splitting  [93, 17]\n",
      "Splitting  [93]\n",
      "Merging  [93]\n",
      "Splitting  [17]\n",
      "Merging  [17]\n",
      "Merging  [17, 93]\n",
      "Merging  [17, 26, 54, 93]\n",
      "Splitting  [77, 31, 44, 55, 20]\n",
      "Splitting  [77, 31]\n",
      "Splitting  [77]\n",
      "Merging  [77]\n",
      "Splitting  [31]\n",
      "Merging  [31]\n",
      "Merging  [31, 77]\n",
      "Splitting  [44, 55, 20]\n",
      "Splitting  [44]\n",
      "Merging  [44]\n",
      "Splitting  [55, 20]\n",
      "Splitting  [55]\n",
      "Merging  [55]\n",
      "Splitting  [20]\n",
      "Merging  [20]\n",
      "Merging  [20, 55]\n",
      "Merging  [20, 44, 55]\n",
      "Merging  [20, 31, 44, 55, 77]\n",
      "Merging  [17, 20, 26, 31, 44, 54, 55, 77, 93]\n"
     ]
    }
   ],
   "source": [
    "def mergesort(array):\n",
    "    if n>1:\n",
    "        mid= len(array)//2\n",
    "        lefthalf = array[:mid]\n",
    "        righthalf =array[mid:]\n",
    "        mergesort(lefthalf)\n",
    "        mergesort(righthalf)\n",
    "        #start to merge the latest two lefthalf and righthalf\n",
    "        n1=len(lefthalf)\n",
    "        n2=len(lefthalf)\n",
    "        i=0\n",
    "        j=0\n",
    "        k=0\n",
    "        while i<n1 and j<n2:\n",
    "            if lefthalf[i]>righthalf[j]:\n",
    "                array[k]=righthalf[j]\n",
    "                j+=1\n",
    "            else:\n",
    "                array[k]=lefthalf[i]\n",
    "                i+=1\n",
    "            k+=1\n",
    "        while i<n1:\n",
    "            array[k]=lefthalf[i]\n",
    "            i+=1\n",
    "            k+=1\n",
    "        while j<n2:\n",
    "            array[k]=righthalf[j]\n",
    "            j+=1\n",
    "            k+=1\n",
    "        print(array)\n",
    "    else:\n",
    "        pass\n",
    "array = [54,26,93,17,77,31,44,55,20]\n",
    "mergeSort(array)"
   ]
  },
  {
   "cell_type": "code",
   "execution_count": 21,
   "metadata": {},
   "outputs": [],
   "source": [
    "#Quicksort\n",
    "#partition mainly did two things\n",
    "#1st to get the <=pivot left and > pivot right,pivot put to correct location \n",
    "#2nd to return the index of the sorted number\n",
    "def partition(arr,low,high):\n",
    "    i=low-1\n",
    "    pivot=arr[high]\n",
    "    for j in range(low,high):\n",
    "        if arr[j]<=pivot:\n",
    "            i=i+1\n",
    "            arr[j],arr[i]=arr[i],arr[j]\n",
    "    arr[i+1],arr[high]=arr[high],arr[i+1]\n",
    "    return (i+1)\n",
    "def quicksort(arr,low,high):\n",
    "    if low<high:\n",
    "        sortedindex=partition(arr,low,high)\n",
    "        quicksort(arr,low,sortedindex-1)\n",
    "        quicksort(arr,sortedindex+1,high)\n",
    "\n"
   ]
  },
  {
   "cell_type": "code",
   "execution_count": 26,
   "metadata": {},
   "outputs": [
    {
     "data": {
      "text/plain": [
       "[17, 20, 26, 31, 44, 54, 55, 77, 93]"
      ]
     },
     "execution_count": 26,
     "metadata": {},
     "output_type": "execute_result"
    }
   ],
   "source": [
    "array = [54,26,93,17,77,31,44,55,20]\n",
    "H=len(array)\n",
    "quicksort(array,0,H-1)\n",
    "array"
   ]
  },
  {
   "cell_type": "code",
   "execution_count": 6,
   "metadata": {},
   "outputs": [
    {
     "name": "stdout",
     "output_type": "stream",
     "text": [
      "Location is greater than the length of LinkedList\n"
     ]
    }
   ],
   "source": [
    "#Example_5 Program for n’th node from the end of a Linked List\n",
    "class Node:\n",
    "    def __init__(self,new_data):\n",
    "        self.data=new_data\n",
    "        self.next=None\n",
    "class LinkedList:\n",
    "    def __init__(self):\n",
    "        self.head=None\n",
    "    def push(self,new_data):\n",
    "        new_node=Node(new_data)\n",
    "        new_node.next=self.head\n",
    "        self.head=new_node\n",
    "#every time push one new node with new_data into the linkedlist,the previous head becomes the new_node.next and update the new_node as the self.head\n",
    "    def printNthFromLast(self,n):\n",
    "        temp=self.head\n",
    "        length=0\n",
    "        while temp is not None:\n",
    "            temp=temp.next\n",
    "            length+=1\n",
    "        if n>length:\n",
    "            print(\"Location is greater than the length of LinkedList\")\n",
    "            return\n",
    "        temp=self.head#reset the temp back to the first node\n",
    "        for i in range(0,length-n):\n",
    "            temp=temp.next\n",
    "        print(temp.data)\n",
    "llist = LinkedList()  \n",
    "llist.push(20)  \n",
    "llist.push(4)  \n",
    "llist.push(15)  \n",
    "llist.push(35) \n",
    "llist.printNthFromLast(4) "
   ]
  },
  {
   "cell_type": "code",
   "execution_count": 13,
   "metadata": {},
   "outputs": [
    {
     "data": {
      "text/plain": [
       "'FGABCDE'"
      ]
     },
     "execution_count": 13,
     "metadata": {},
     "output_type": "execute_result"
    }
   ],
   "source": [
    "#Example_6 Given a string and an offset, rotate string by offset. (rotate from left to right)\n",
    "def rotateString(A, offset):\n",
    "        if A is None or len(A) == 0:\n",
    "            return A\n",
    "\n",
    "        offset %= len(A)# if offset >= length,rotate one round=do nothing.therefore,offset modulus len-->the rotating numbers\n",
    "        before = A[:len(A) - offset]# list[<start>:<stop>:<step>]\n",
    "        after = A[len(A) - offset:]\n",
    "        # [::-1] means reverse in Python\n",
    "        A = before[::-1] + after[::-1]\n",
    "        A = A[::-1]\n",
    "\n",
    "        return A\n",
    "A=\"ABCDEFG\"\n",
    "\n",
    "A[1]\n",
    "rotateString(A,2)"
   ]
  },
  {
   "cell_type": "code",
   "execution_count": 13,
   "metadata": {},
   "outputs": [
    {
     "data": {
      "text/plain": [
       "'GFEDCBA'"
      ]
     },
     "execution_count": 13,
     "metadata": {},
     "output_type": "execute_result"
    }
   ],
   "source": [
    "#string/list/tuple slicing\n",
    "A=\"ABCDEFG\"#list[<start>:<stop>:<step>]\n",
    "A[0:3]# slice only 0,1,2;excludes the stop indexed element\n",
    "A[6:0:-1]#excludes the stop indexed \"A\"\n",
    "A[::-1]\n"
   ]
  }
 ],
 "metadata": {
  "kernelspec": {
   "display_name": "Python 3",
   "language": "python",
   "name": "python3"
  },
  "language_info": {
   "codemirror_mode": {
    "name": "ipython",
    "version": 3
   },
   "file_extension": ".py",
   "mimetype": "text/x-python",
   "name": "python",
   "nbconvert_exporter": "python",
   "pygments_lexer": "ipython3",
   "version": "3.6.5"
  }
 },
 "nbformat": 4,
 "nbformat_minor": 2
}
